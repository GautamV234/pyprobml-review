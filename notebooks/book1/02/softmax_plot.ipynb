{
 "cells": [
  {
   "cell_type": "code",
   "execution_count": 38,
   "metadata": {},
   "outputs": [],
   "source": [
    "import jax\n",
    "import jax.numpy as jnp\n",
    "import matplotlib.pyplot as plt\n",
    "import seaborn as sns\n",
    "from matplotlib.colors import ListedColormap\n",
    "\n",
    "try:\n",
    "    from probml_utils import savefig, latexify\n",
    "except ModuleNotFoundError:\n",
    "    %pip install git+https://github.com/probml/probml-utils.git\n",
    "    from probml_utils import savefig, latexify\n",
    "\n"
   ]
  },
  {
   "cell_type": "code",
   "execution_count": 39,
   "metadata": {},
   "outputs": [
    {
     "name": "stderr",
     "output_type": "stream",
     "text": [
      "/mnt/c/work/srip/ML/kevin_murphy/review/srip_env/lib/python3.8/site-packages/probml_utils/plotting.py:26: UserWarning: LATEXIFY environment variable not set, not latexifying\n",
      "  warnings.warn(\"LATEXIFY environment variable not set, not latexifying\")\n"
     ]
    }
   ],
   "source": [
    "latexify(width_scale_factor=1.1, fig_height=1.5)"
   ]
  },
  {
   "cell_type": "code",
   "execution_count": 40,
   "metadata": {},
   "outputs": [],
   "source": [
    "def softmax(a):\n",
    "\n",
    "    \"\"\"\n",
    "    Defining the softmax function\n",
    "    a - input vector\n",
    "    \"\"\"\n",
    "    e = jnp.exp((1.0 * jnp.array(a)))\n",
    "    return e / jnp.sum(e)"
   ]
  },
  {
   "cell_type": "code",
   "execution_count": 41,
   "metadata": {},
   "outputs": [],
   "source": [
    "\"\"\"\n",
    "T - list of Temperature values\n",
    "a - input logits to softmax\n",
    "\"\"\"\n",
    "T = [100, 2, 1]\n",
    "a = jnp.array([3, 0, 1])"
   ]
  },
  {
   "cell_type": "code",
   "execution_count": 43,
   "metadata": {},
   "outputs": [
    {
     "name": "stderr",
     "output_type": "stream",
     "text": [
      "/mnt/c/work/srip/ML/kevin_murphy/review/srip_env/lib/python3.8/site-packages/probml_utils/plotting.py:79: UserWarning: set FIG_DIR environment variable to save figures\n",
      "  warnings.warn(\"set FIG_DIR environment variable to save figures\")\n"
     ]
    },
    {
     "data": {
      "image/png": "[encoded data removed]",
      "text/plain": [
       "<Figure size 864x288 with 3 Axes>"
      ]
     },
     "metadata": {
      "needs_background": "light"
     },
     "output_type": "display_data"
    }
   ],
   "source": [
    "ind = [1, 2, 3]\n",
    "plt.figure(figsize=(12, 4))\n",
    "for i in range(len(T)):\n",
    "    plt.subplot(1, 3, i + 1)\n",
    "    plt.bar(ind, softmax(a / T[i]))\n",
    "    plt.title(\"$Temperature = %d$\" % T[i])\n",
    "    plt.xlabel(\"Probability Mass Distribution\")\n",
    "    plt.ylim(0, 1)\n",
    "    ax = plt.gca()\n",
    "    ax.set_xticklabels([])\n",
    "    sns.despine()\n",
    "    save_name = \"softmax_pmf_latexified\"\n",
    "savefig(save_name, dpi=300)"
   ]
  },
  {
   "cell_type": "code",
   "execution_count": 44,
   "metadata": {},
   "outputs": [],
   "source": [
    "def make_graph(data):\n",
    "    ind = [1, 2, 3]\n",
    "    a = jnp.array([3, 0, 1])\n",
    "    T = data[\"T\"]\n",
    "    plt.bar(ind, softmax(a / T))\n",
    "    plt.title(f\"$Temperature = {T}$\")\n",
    "    plt.xlabel(\"Probability Mass Distribution\")\n",
    "    plt.ylim(0, 1)\n",
    "    sns.despine()"
   ]
  },
  {
   "cell_type": "code",
   "execution_count": 45,
   "metadata": {},
   "outputs": [
    {
     "data": {
      "application/vnd.jupyter.widget-view+json": {
       "model_id": "cc3fdf39b4f140348cb27a4aa6a1e763",
       "version_major": 2,
       "version_minor": 0
      },
      "text/plain": [
       "interactive(children=(IntSlider(value=50, description='T', min=1), Output()), _dom_classes=('widget-interact',…"
      ]
     },
     "metadata": {},
     "output_type": "display_data"
    }
   ],
   "source": [
    "from ipywidgets import interact\n",
    "\n",
    "\n",
    "@interact(T=(1, 100))\n",
    "def generate_random(T):\n",
    "    data = {\"T\": T}\n",
    "    make_graph(data)"
   ]
  }
 ],
 "metadata": {
  "kernelspec": {
   "display_name": "Python 3 (ipykernel)",
   "language": "python",
   "name": "python3"
  },
  "language_info": {
   "codemirror_mode": {
    "name": "ipython",
    "version": 3
   },
   "file_extension": ".py",
   "mimetype": "text/x-python",
   "name": "python",
   "nbconvert_exporter": "python",
   "pygments_lexer": "ipython3",
   "version": "3.8.10"
  },
  "orig_nbformat": 4
 },
 "nbformat": 4,
 "nbformat_minor": 2
}
